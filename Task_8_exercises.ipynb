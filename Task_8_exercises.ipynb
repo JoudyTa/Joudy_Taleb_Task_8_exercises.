{
  "cells": [
    {
      "cell_type": "markdown",
      "metadata": {
        "id": "uua1wvw7iQB4"
      },
      "source": [
        "![](logo1.jpg)"
      ]
    },
    {
      "cell_type": "markdown",
      "metadata": {
        "id": "IMnWC3LuifEi"
      },
      "source": [
        "# **shAI Training 2023 | Level 1**\n",
        "\n",
        "## Task #8 (End-to-End ML Project {part_2})"
      ]
    },
    {
      "cell_type": "markdown",
      "metadata": {
        "id": "1rbe_ZnKi-uY"
      },
      "source": [
        "## Welcome to the exercises for reviewing second part of end to end ML project.\n",
        "**Make sure that you read and understand ch2 from the hands-on ML book (page 72 to the end of the chapter ) before start with this notebook.**\n",
        "\n",
        "**If you stuck with anything reread that part from the book and feel free to ask about anything in the messenger group as you go along.**\n",
        "\n",
        " ## Good Luck : )"
      ]
    },
    {
      "cell_type": "markdown",
      "metadata": {
        "id": "zAbRZ0fwfOb4"
      },
      "source": [
        "## first run the following cell for the first part of the project to continue your work"
      ]
    },
    {
      "cell_type": "code",
      "execution_count": null,
      "metadata": {
        "id": "Q3v160SJfL7U"
      },
      "outputs": [],
      "source": [
        "import numpy as np\n",
        "import pandas as pd\n",
        "import matplotlib.pyplot as plt\n",
        "%matplotlib inline\n",
        "import seaborn as sns\n",
        "from sklearn.model_selection import train_test_split\n",
        "from pandas.plotting import scatter_matrix\n",
        "from sklearn.impute import SimpleImputer\n",
        "from sklearn.preprocessing import OneHotEncoder\n",
        "from sklearn.base import BaseEstimator, TransformerMixin\n",
        "from sklearn.pipeline import Pipeline\n",
        "from sklearn.preprocessing import StandardScaler\n",
        "from sklearn.compose import ColumnTransformer"
      ]
    },
    {
      "cell_type": "code",
      "execution_count": null,
      "metadata": {
        "id": "ObbhNRgSfu6_"
      },
      "outputs": [],
      "source": [
        "import os\n",
        "import tarfile\n",
        "import urllib\n",
        "DOWNLOAD_ROOT = \"https://raw.githubusercontent.com/ageron/handson-ml2/master/\"\n",
        "HOUSING_PATH = os.path.join(\"datasets\", \"housing\")\n",
        "HOUSING_URL = DOWNLOAD_ROOT + \"datasets/housing/housing.tgz\"\n",
        "\n",
        "def fetch_housing_data(housing_url=HOUSING_URL, housing_path=HOUSING_PATH):\n",
        "    os.makedirs(housing_path, exist_ok=True)\n",
        "    tgz_path = os.path.join(housing_path, \"housing.tgz\")\n",
        "    urllib.request.urlretrieve(housing_url, tgz_path)\n",
        "    housing_tgz = tarfile.open(tgz_path)\n",
        "    housing_tgz.extractall(path=housing_path)\n",
        "    housing_tgz.close()\n",
        "\n",
        "def load_housing_data(housing_path=HOUSING_PATH):\n",
        "   csv_path = os.path.join(housing_path, \"housing.csv\")\n",
        "   return pd.read_csv(csv_path)\n",
        "\n",
        "fetch_housing_data()\n",
        "housing = load_housing_data()\n",
        "\n",
        "rooms_ix, bedrooms_ix, population_ix, household_ix = [\n",
        "    list(housing.columns).index(col)\n",
        "    for col in (\"total_rooms\", \"total_bedrooms\", \"population\", \"households\")]\n",
        "\n",
        "class CombinedAttributesAdder(BaseEstimator, TransformerMixin):\n",
        "    def __init__(self, add_bedrooms_per_room = True):\n",
        "        self.add_bedrooms_per_room = add_bedrooms_per_room\n",
        "    def fit(self, X, y=None):\n",
        "        return self  # nothing else to do\n",
        "    def transform(self, X, y=None):\n",
        "        rooms_per_household = X[:, rooms_ix] / X[:, household_ix]\n",
        "        population_per_household = X[:, population_ix] / X[:, household_ix]\n",
        "        if self.add_bedrooms_per_room:\n",
        "            bedrooms_per_room = X[:, bedrooms_ix] / X[:, rooms_ix]\n",
        "            return np.c_[X, rooms_per_household, population_per_household,\n",
        "                         bedrooms_per_room]\n",
        "        else:\n",
        "            return np.c_[X, rooms_per_household, population_per_household]\n",
        "\n",
        "train_set, test_set = train_test_split(housing, test_size=0.2, random_state=42)\n",
        "housing = train_set.drop(\"median_house_value\", axis=1)\n",
        "housing_labels = train_set[\"median_house_value\"].copy()\n",
        "\n",
        "housing_num = housing.drop(\"ocean_proximity\", axis=1)\n",
        "num_attribs = list(housing_num)\n",
        "cat_attribs = [\"ocean_proximity\"]\n",
        "\n",
        "num_pipeline = Pipeline([\n",
        " ('imputer', SimpleImputer(strategy=\"median\")),\n",
        " ('attribs_adder', CombinedAttributesAdder()),\n",
        " ('std_scaler', StandardScaler())])\n",
        "\n",
        "full_pipeline = ColumnTransformer([\n",
        " (\"num\", num_pipeline, num_attribs),\n",
        " (\"cat\", OneHotEncoder(), cat_attribs)])\n",
        "\n",
        "housing_prepared = full_pipeline.fit_transform(housing)"
      ]
    },
    {
      "cell_type": "markdown",
      "metadata": {
        "id": "wa6vPfm6jxsF"
      },
      "source": [
        "# 1- Select and Train a Model\n",
        "\n",
        "# Let’s first train a LinearRegression model"
      ]
    },
    {
      "cell_type": "code",
      "execution_count": null,
      "metadata": {
        "id": "JCl0ZYDRjGz_",
        "colab": {
          "base_uri": "https://localhost:8080/",
          "height": 75
        },
        "outputId": "5540744b-afd1-4d47-bd9a-dd524633cdde"
      },
      "outputs": [
        {
          "output_type": "execute_result",
          "data": {
            "text/plain": [
              "LinearRegression()"
            ],
            "text/html": [
              "<style>#sk-container-id-1 {color: black;background-color: white;}#sk-container-id-1 pre{padding: 0;}#sk-container-id-1 div.sk-toggleable {background-color: white;}#sk-container-id-1 label.sk-toggleable__label {cursor: pointer;display: block;width: 100%;margin-bottom: 0;padding: 0.3em;box-sizing: border-box;text-align: center;}#sk-container-id-1 label.sk-toggleable__label-arrow:before {content: \"▸\";float: left;margin-right: 0.25em;color: #696969;}#sk-container-id-1 label.sk-toggleable__label-arrow:hover:before {color: black;}#sk-container-id-1 div.sk-estimator:hover label.sk-toggleable__label-arrow:before {color: black;}#sk-container-id-1 div.sk-toggleable__content {max-height: 0;max-width: 0;overflow: hidden;text-align: left;background-color: #f0f8ff;}#sk-container-id-1 div.sk-toggleable__content pre {margin: 0.2em;color: black;border-radius: 0.25em;background-color: #f0f8ff;}#sk-container-id-1 input.sk-toggleable__control:checked~div.sk-toggleable__content {max-height: 200px;max-width: 100%;overflow: auto;}#sk-container-id-1 input.sk-toggleable__control:checked~label.sk-toggleable__label-arrow:before {content: \"▾\";}#sk-container-id-1 div.sk-estimator input.sk-toggleable__control:checked~label.sk-toggleable__label {background-color: #d4ebff;}#sk-container-id-1 div.sk-label input.sk-toggleable__control:checked~label.sk-toggleable__label {background-color: #d4ebff;}#sk-container-id-1 input.sk-hidden--visually {border: 0;clip: rect(1px 1px 1px 1px);clip: rect(1px, 1px, 1px, 1px);height: 1px;margin: -1px;overflow: hidden;padding: 0;position: absolute;width: 1px;}#sk-container-id-1 div.sk-estimator {font-family: monospace;background-color: #f0f8ff;border: 1px dotted black;border-radius: 0.25em;box-sizing: border-box;margin-bottom: 0.5em;}#sk-container-id-1 div.sk-estimator:hover {background-color: #d4ebff;}#sk-container-id-1 div.sk-parallel-item::after {content: \"\";width: 100%;border-bottom: 1px solid gray;flex-grow: 1;}#sk-container-id-1 div.sk-label:hover label.sk-toggleable__label {background-color: #d4ebff;}#sk-container-id-1 div.sk-serial::before {content: \"\";position: absolute;border-left: 1px solid gray;box-sizing: border-box;top: 0;bottom: 0;left: 50%;z-index: 0;}#sk-container-id-1 div.sk-serial {display: flex;flex-direction: column;align-items: center;background-color: white;padding-right: 0.2em;padding-left: 0.2em;position: relative;}#sk-container-id-1 div.sk-item {position: relative;z-index: 1;}#sk-container-id-1 div.sk-parallel {display: flex;align-items: stretch;justify-content: center;background-color: white;position: relative;}#sk-container-id-1 div.sk-item::before, #sk-container-id-1 div.sk-parallel-item::before {content: \"\";position: absolute;border-left: 1px solid gray;box-sizing: border-box;top: 0;bottom: 0;left: 50%;z-index: -1;}#sk-container-id-1 div.sk-parallel-item {display: flex;flex-direction: column;z-index: 1;position: relative;background-color: white;}#sk-container-id-1 div.sk-parallel-item:first-child::after {align-self: flex-end;width: 50%;}#sk-container-id-1 div.sk-parallel-item:last-child::after {align-self: flex-start;width: 50%;}#sk-container-id-1 div.sk-parallel-item:only-child::after {width: 0;}#sk-container-id-1 div.sk-dashed-wrapped {border: 1px dashed gray;margin: 0 0.4em 0.5em 0.4em;box-sizing: border-box;padding-bottom: 0.4em;background-color: white;}#sk-container-id-1 div.sk-label label {font-family: monospace;font-weight: bold;display: inline-block;line-height: 1.2em;}#sk-container-id-1 div.sk-label-container {text-align: center;}#sk-container-id-1 div.sk-container {/* jupyter's `normalize.less` sets `[hidden] { display: none; }` but bootstrap.min.css set `[hidden] { display: none !important; }` so we also need the `!important` here to be able to override the default hidden behavior on the sphinx rendered scikit-learn.org. See: https://github.com/scikit-learn/scikit-learn/issues/21755 */display: inline-block !important;position: relative;}#sk-container-id-1 div.sk-text-repr-fallback {display: none;}</style><div id=\"sk-container-id-1\" class=\"sk-top-container\"><div class=\"sk-text-repr-fallback\"><pre>LinearRegression()</pre><b>In a Jupyter environment, please rerun this cell to show the HTML representation or trust the notebook. <br />On GitHub, the HTML representation is unable to render, please try loading this page with nbviewer.org.</b></div><div class=\"sk-container\" hidden><div class=\"sk-item\"><div class=\"sk-estimator sk-toggleable\"><input class=\"sk-toggleable__control sk-hidden--visually\" id=\"sk-estimator-id-1\" type=\"checkbox\" checked><label for=\"sk-estimator-id-1\" class=\"sk-toggleable__label sk-toggleable__label-arrow\">LinearRegression</label><div class=\"sk-toggleable__content\"><pre>LinearRegression()</pre></div></div></div></div></div>"
            ]
          },
          "metadata": {},
          "execution_count": 3
        }
      ],
      "source": [
        "# CODE HERE\n",
        "from sklearn.linear_model import LinearRegression\n",
        "\n",
        "lin_reg = LinearRegression()\n",
        "lin_reg.fit(housing_prepared,housing_labels)"
      ]
    },
    {
      "cell_type": "markdown",
      "metadata": {
        "id": "_nDxOY7GmTNc"
      },
      "source": [
        "# First try it out on a few instances from the training set:\n"
      ]
    },
    {
      "cell_type": "code",
      "execution_count": null,
      "metadata": {
        "id": "7Lx7VQm7pwSQ"
      },
      "outputs": [],
      "source": [
        "some_data = housing.iloc[:5]\n",
        "some_labels = housing_labels.iloc[:5]"
      ]
    },
    {
      "cell_type": "code",
      "execution_count": null,
      "metadata": {
        "id": "BU-ynaaIpYHO",
        "colab": {
          "base_uri": "https://localhost:8080/"
        },
        "outputId": "3a3a0aa8-276d-431f-b1e7-ab7fbe799be9"
      },
      "outputs": [
        {
          "output_type": "stream",
          "name": "stdout",
          "text": [
            "Predictions: [181746.54359616 290558.74973505 244957.50017771 146498.51061398\n",
            " 163230.42393939]\n"
          ]
        }
      ],
      "source": [
        "# CODE HERE\n",
        "some_data_prepared = housing_prepared[:5]\n",
        "print(\"Predictions:\", lin_reg.predict(some_data_prepared))"
      ]
    },
    {
      "cell_type": "markdown",
      "metadata": {
        "id": "QjmwxoU-qFnb"
      },
      "source": [
        "# measure this regression model’s RMSE on the whole training set\n",
        "* sing Scikit-Learn’s mean_squared_error() function:"
      ]
    },
    {
      "cell_type": "code",
      "execution_count": null,
      "metadata": {
        "id": "rczx22dFqRMc"
      },
      "outputs": [],
      "source": [
        "from sklearn.metrics import mean_squared_error"
      ]
    },
    {
      "cell_type": "code",
      "execution_count": null,
      "metadata": {
        "id": "aCYZh9ExqWMJ",
        "colab": {
          "base_uri": "https://localhost:8080/"
        },
        "outputId": "bee87eb0-ab1d-465e-8516-c5ec4169108b"
      },
      "outputs": [
        {
          "output_type": "stream",
          "name": "stdout",
          "text": [
            "67593.20745775253\n"
          ]
        }
      ],
      "source": [
        "# CODE HERE\n",
        "housing_predictions = lin_reg.predict(housing_prepared)\n",
        "lin_mse = mean_squared_error(housing_labels, housing_predictions)\n",
        "lin_rmse = np.sqrt(lin_mse)\n",
        "print(lin_rmse)"
      ]
    },
    {
      "cell_type": "markdown",
      "metadata": {
        "id": "RLsKfuQpcfyx"
      },
      "source": [
        "# judge on the RMSE result for this model\n",
        "write down your answar"
      ]
    },
    {
      "cell_type": "markdown",
      "metadata": {
        "id": "nnBVcR-MeFqa"
      },
      "source": [
        "your answer goes here"
      ]
    },
    {
      "cell_type": "markdown",
      "metadata": {
        "id": "vImNak3CqqFo"
      },
      "source": [
        "# Let’s train a Decision Tree Regressor model\n",
        "## more powerful model"
      ]
    },
    {
      "cell_type": "code",
      "execution_count": null,
      "metadata": {
        "id": "8syfCBveqY2q"
      },
      "outputs": [],
      "source": [
        "from sklearn.tree import DecisionTreeRegressor"
      ]
    },
    {
      "cell_type": "code",
      "execution_count": null,
      "metadata": {
        "id": "vrUPZzBhq-do",
        "colab": {
          "base_uri": "https://localhost:8080/",
          "height": 75
        },
        "outputId": "9296abf1-63d5-4eb3-f838-48abb252deda"
      },
      "outputs": [
        {
          "output_type": "execute_result",
          "data": {
            "text/plain": [
              "DecisionTreeRegressor(random_state=42)"
            ],
            "text/html": [
              "<style>#sk-container-id-2 {color: black;background-color: white;}#sk-container-id-2 pre{padding: 0;}#sk-container-id-2 div.sk-toggleable {background-color: white;}#sk-container-id-2 label.sk-toggleable__label {cursor: pointer;display: block;width: 100%;margin-bottom: 0;padding: 0.3em;box-sizing: border-box;text-align: center;}#sk-container-id-2 label.sk-toggleable__label-arrow:before {content: \"▸\";float: left;margin-right: 0.25em;color: #696969;}#sk-container-id-2 label.sk-toggleable__label-arrow:hover:before {color: black;}#sk-container-id-2 div.sk-estimator:hover label.sk-toggleable__label-arrow:before {color: black;}#sk-container-id-2 div.sk-toggleable__content {max-height: 0;max-width: 0;overflow: hidden;text-align: left;background-color: #f0f8ff;}#sk-container-id-2 div.sk-toggleable__content pre {margin: 0.2em;color: black;border-radius: 0.25em;background-color: #f0f8ff;}#sk-container-id-2 input.sk-toggleable__control:checked~div.sk-toggleable__content {max-height: 200px;max-width: 100%;overflow: auto;}#sk-container-id-2 input.sk-toggleable__control:checked~label.sk-toggleable__label-arrow:before {content: \"▾\";}#sk-container-id-2 div.sk-estimator input.sk-toggleable__control:checked~label.sk-toggleable__label {background-color: #d4ebff;}#sk-container-id-2 div.sk-label input.sk-toggleable__control:checked~label.sk-toggleable__label {background-color: #d4ebff;}#sk-container-id-2 input.sk-hidden--visually {border: 0;clip: rect(1px 1px 1px 1px);clip: rect(1px, 1px, 1px, 1px);height: 1px;margin: -1px;overflow: hidden;padding: 0;position: absolute;width: 1px;}#sk-container-id-2 div.sk-estimator {font-family: monospace;background-color: #f0f8ff;border: 1px dotted black;border-radius: 0.25em;box-sizing: border-box;margin-bottom: 0.5em;}#sk-container-id-2 div.sk-estimator:hover {background-color: #d4ebff;}#sk-container-id-2 div.sk-parallel-item::after {content: \"\";width: 100%;border-bottom: 1px solid gray;flex-grow: 1;}#sk-container-id-2 div.sk-label:hover label.sk-toggleable__label {background-color: #d4ebff;}#sk-container-id-2 div.sk-serial::before {content: \"\";position: absolute;border-left: 1px solid gray;box-sizing: border-box;top: 0;bottom: 0;left: 50%;z-index: 0;}#sk-container-id-2 div.sk-serial {display: flex;flex-direction: column;align-items: center;background-color: white;padding-right: 0.2em;padding-left: 0.2em;position: relative;}#sk-container-id-2 div.sk-item {position: relative;z-index: 1;}#sk-container-id-2 div.sk-parallel {display: flex;align-items: stretch;justify-content: center;background-color: white;position: relative;}#sk-container-id-2 div.sk-item::before, #sk-container-id-2 div.sk-parallel-item::before {content: \"\";position: absolute;border-left: 1px solid gray;box-sizing: border-box;top: 0;bottom: 0;left: 50%;z-index: -1;}#sk-container-id-2 div.sk-parallel-item {display: flex;flex-direction: column;z-index: 1;position: relative;background-color: white;}#sk-container-id-2 div.sk-parallel-item:first-child::after {align-self: flex-end;width: 50%;}#sk-container-id-2 div.sk-parallel-item:last-child::after {align-self: flex-start;width: 50%;}#sk-container-id-2 div.sk-parallel-item:only-child::after {width: 0;}#sk-container-id-2 div.sk-dashed-wrapped {border: 1px dashed gray;margin: 0 0.4em 0.5em 0.4em;box-sizing: border-box;padding-bottom: 0.4em;background-color: white;}#sk-container-id-2 div.sk-label label {font-family: monospace;font-weight: bold;display: inline-block;line-height: 1.2em;}#sk-container-id-2 div.sk-label-container {text-align: center;}#sk-container-id-2 div.sk-container {/* jupyter's `normalize.less` sets `[hidden] { display: none; }` but bootstrap.min.css set `[hidden] { display: none !important; }` so we also need the `!important` here to be able to override the default hidden behavior on the sphinx rendered scikit-learn.org. See: https://github.com/scikit-learn/scikit-learn/issues/21755 */display: inline-block !important;position: relative;}#sk-container-id-2 div.sk-text-repr-fallback {display: none;}</style><div id=\"sk-container-id-2\" class=\"sk-top-container\"><div class=\"sk-text-repr-fallback\"><pre>DecisionTreeRegressor(random_state=42)</pre><b>In a Jupyter environment, please rerun this cell to show the HTML representation or trust the notebook. <br />On GitHub, the HTML representation is unable to render, please try loading this page with nbviewer.org.</b></div><div class=\"sk-container\" hidden><div class=\"sk-item\"><div class=\"sk-estimator sk-toggleable\"><input class=\"sk-toggleable__control sk-hidden--visually\" id=\"sk-estimator-id-2\" type=\"checkbox\" checked><label for=\"sk-estimator-id-2\" class=\"sk-toggleable__label sk-toggleable__label-arrow\">DecisionTreeRegressor</label><div class=\"sk-toggleable__content\"><pre>DecisionTreeRegressor(random_state=42)</pre></div></div></div></div></div>"
            ]
          },
          "metadata": {},
          "execution_count": 9
        }
      ],
      "source": [
        "# CODE HERE\n",
        "tree_reg = DecisionTreeRegressor(random_state = 42)\n",
        "tree_reg.fit(housing_prepared,housing_labels)"
      ]
    },
    {
      "cell_type": "markdown",
      "metadata": {
        "id": "kRhxYj0Aq9op"
      },
      "source": [
        "# Now evaluate the model on the training set\n",
        "* using Scikit-Learn’s mean_squared_error() function:"
      ]
    },
    {
      "cell_type": "code",
      "execution_count": null,
      "metadata": {
        "id": "DYCxUSCkrNIY",
        "colab": {
          "base_uri": "https://localhost:8080/"
        },
        "outputId": "e28c44af-8b5d-4eeb-93c2-931d5f76573a"
      },
      "outputs": [
        {
          "output_type": "execute_result",
          "data": {
            "text/plain": [
              "0.0"
            ]
          },
          "metadata": {},
          "execution_count": 10
        }
      ],
      "source": [
        "# CODE HERE\n",
        "housing_predictions = tree_reg.predict(housing_prepared)\n",
        "tree_mse = mean_squared_error(housing_labels,housing_predictions)\n",
        "tree_rmse = np.sqrt(tree_mse)\n",
        "tree_rmse"
      ]
    },
    {
      "cell_type": "markdown",
      "metadata": {
        "id": "CSxXI9b8iZPs"
      },
      "source": [
        "# Explaine this result\n",
        "write down your answar"
      ]
    },
    {
      "cell_type": "markdown",
      "metadata": {
        "id": "BVSMQ7kbiZSi"
      },
      "source": [
        "your answer goes here"
      ]
    },
    {
      "cell_type": "markdown",
      "metadata": {
        "id": "rj7b4zSPrdyH"
      },
      "source": [
        "# Evaluation Using Cross-Validation\n",
        "\n",
        "1-split the training set into 10 distinct subsets then train and evaluate the Decision Tree model"
      ]
    },
    {
      "cell_type": "code",
      "execution_count": null,
      "metadata": {
        "id": "JmNrgsBrwIe3"
      },
      "outputs": [],
      "source": [
        "from sklearn.model_selection import cross_val_score"
      ]
    },
    {
      "cell_type": "code",
      "execution_count": null,
      "metadata": {
        "id": "yXNPsWjcwMd_"
      },
      "outputs": [],
      "source": [
        "# CODE HERE\n",
        "scores = cross_val_score(tree_reg, housing_prepared, housing_labels, scoring =\"neg_mean_squared_error\",cv = 10)\n",
        "tree_rmse_scores = np.sqrt(-scores)"
      ]
    },
    {
      "cell_type": "markdown",
      "metadata": {
        "id": "KqReIY3urLP8"
      },
      "source": [
        "2- display the resultant scores and calculate its Mean and Standard deviation"
      ]
    },
    {
      "cell_type": "code",
      "execution_count": null,
      "metadata": {
        "id": "1g8jIq-6raVF",
        "colab": {
          "base_uri": "https://localhost:8080/"
        },
        "outputId": "3da5ceb4-3340-4be5-8934-b944ff2cbb4d"
      },
      "outputs": [
        {
          "output_type": "stream",
          "name": "stdout",
          "text": [
            "Scores:  [65312.86044031 70581.69865676 67849.75809965 71460.33789358\n",
            " 74035.29744574 65562.42978503 67964.10942543 69102.89388457\n",
            " 66876.66473025 69735.84760006]\n",
            "Mean:  68848.18979613911\n",
            "Standard Deviation:  2579.6785558576307\n"
          ]
        }
      ],
      "source": [
        "# CODE HERE\n",
        "print(\"Scores: \", tree_rmse_scores)\n",
        "print(\"Mean: \", tree_rmse_scores.mean())\n",
        "print(\"Standard Deviation: \", tree_rmse_scores.std())"
      ]
    },
    {
      "cell_type": "markdown",
      "metadata": {
        "id": "G6paGk_hsGGY"
      },
      "source": [
        "3-repaet the same steps to compute the same scores for the Linear Regression  model\n",
        "\n",
        "*notice the difference between the results of the two models*"
      ]
    },
    {
      "cell_type": "code",
      "execution_count": null,
      "metadata": {
        "id": "ol3C6DmusWfx"
      },
      "outputs": [],
      "source": [
        "# CODE HERE\n",
        "scores = cross_val_score(lin_reg, housing_prepared, housing_labels, scoring =\"neg_mean_squared_error\",cv = 10)\n",
        "lin_rmse_scores = np.sqrt(-scores)"
      ]
    },
    {
      "cell_type": "markdown",
      "metadata": {
        "id": "fdQ85uTEtDy1"
      },
      "source": [
        "## Let’s train one last model the RandomForestRegressor."
      ]
    },
    {
      "cell_type": "code",
      "execution_count": null,
      "metadata": {
        "id": "O1PPFq5TtdDP"
      },
      "outputs": [],
      "source": [
        "# CODE HERE\n",
        "from sklearn.ensemble import RandomForestRegressor\n",
        "forest_reg = RandomForestRegressor()\n",
        "forest_scores = cross_val_score(forest_reg,housing_prepared, housing_labels,scoring = \"neg_mean_squared_error\", cv = 10)\n",
        "forest_rmse_scores = np.sqrt(-forest_scores)"
      ]
    },
    {
      "cell_type": "markdown",
      "metadata": {
        "id": "gSxaBthCtw93"
      },
      "source": [
        "# repeat the same steps to compute the same scores its Mean and Standard deviation for the Random Forest model"
      ]
    },
    {
      "cell_type": "code",
      "execution_count": null,
      "metadata": {
        "id": "AAc2MOQwt2lC",
        "colab": {
          "base_uri": "https://localhost:8080/"
        },
        "outputId": "d6619c6c-4167-43f8-c592-5643390affea"
      },
      "outputs": [
        {
          "output_type": "stream",
          "name": "stdout",
          "text": [
            "Scores:  [46673.70307332 51583.26802585 49699.38249423 51847.06020535\n",
            " 52679.00382142 47242.54192662 47628.16350399 51321.61195643\n",
            " 49637.87343698 50113.81418517]\n",
            "Mean:  49842.64226293644\n",
            "Standard Deviation:  1977.9375355186642\n"
          ]
        }
      ],
      "source": [
        "# CODE HERE\n",
        "print(\"Scores: \", forest_rmse_scores)\n",
        "print(\"Mean: \", forest_rmse_scores.mean())\n",
        "print(\"Standard Deviation: \", forest_rmse_scores.std())"
      ]
    },
    {
      "cell_type": "markdown",
      "metadata": {
        "id": "Vn2u9DOxvE5S"
      },
      "source": [
        "# Save every model you experiment with\n",
        "*using the joblib library*"
      ]
    },
    {
      "cell_type": "code",
      "execution_count": null,
      "metadata": {
        "id": "mWyIi3mtva85",
        "colab": {
          "base_uri": "https://localhost:8080/"
        },
        "outputId": "b9d46c40-9452-4c3d-c886-17dba3240e1b"
      },
      "outputs": [
        {
          "output_type": "execute_result",
          "data": {
            "text/plain": [
              "['forest_regression_model.joblib']"
            ]
          },
          "metadata": {},
          "execution_count": 17
        }
      ],
      "source": [
        "# CODE HERE\n",
        "import joblib\n",
        "\n",
        "joblib.dump(lin_reg, 'lin_regression_model.joblib')\n",
        "joblib.dump(tree_reg,'tree_regression_model.joblib')\n",
        "joblib.dump(forest_reg, 'forest_regression_model.joblib')\n"
      ]
    },
    {
      "cell_type": "markdown",
      "metadata": {
        "id": "gIC6O-h0wOBJ"
      },
      "source": [
        "## now you have a shortlist of promising models. You now need to\n",
        "## fine-tune them!\n",
        "# Fine-Tune Your Model\n",
        "\n",
        "## 1- Grid Search\n",
        "## evaluate all the possible combinations of hyperparameter values for the RandomForestRegressor\n",
        "*It may take a long time*"
      ]
    },
    {
      "cell_type": "code",
      "execution_count": null,
      "metadata": {
        "id": "Y8Wqd-Pix3Sm"
      },
      "outputs": [],
      "source": [
        "from sklearn.model_selection import GridSearchCV"
      ]
    },
    {
      "cell_type": "code",
      "execution_count": null,
      "metadata": {
        "id": "j-zNvGLhyGGb",
        "colab": {
          "base_uri": "https://localhost:8080/",
          "height": 118
        },
        "outputId": "2fb9e33e-694e-4197-bc35-bfc0050f9d2f"
      },
      "outputs": [
        {
          "output_type": "execute_result",
          "data": {
            "text/plain": [
              "GridSearchCV(cv=5, estimator=RandomForestRegressor(),\n",
              "             param_grid=[{'max_features': [2, 4, 6, 8],\n",
              "                          'n_estimators': [3, 10, 30]},\n",
              "                         {'bootstrap': [False], 'max_features': [2, 3, 4],\n",
              "                          'n_estimators': [3, 10]}],\n",
              "             return_train_score=True, scoring='neg_mean_squared_error')"
            ],
            "text/html": [
              "<style>#sk-container-id-3 {color: black;background-color: white;}#sk-container-id-3 pre{padding: 0;}#sk-container-id-3 div.sk-toggleable {background-color: white;}#sk-container-id-3 label.sk-toggleable__label {cursor: pointer;display: block;width: 100%;margin-bottom: 0;padding: 0.3em;box-sizing: border-box;text-align: center;}#sk-container-id-3 label.sk-toggleable__label-arrow:before {content: \"▸\";float: left;margin-right: 0.25em;color: #696969;}#sk-container-id-3 label.sk-toggleable__label-arrow:hover:before {color: black;}#sk-container-id-3 div.sk-estimator:hover label.sk-toggleable__label-arrow:before {color: black;}#sk-container-id-3 div.sk-toggleable__content {max-height: 0;max-width: 0;overflow: hidden;text-align: left;background-color: #f0f8ff;}#sk-container-id-3 div.sk-toggleable__content pre {margin: 0.2em;color: black;border-radius: 0.25em;background-color: #f0f8ff;}#sk-container-id-3 input.sk-toggleable__control:checked~div.sk-toggleable__content {max-height: 200px;max-width: 100%;overflow: auto;}#sk-container-id-3 input.sk-toggleable__control:checked~label.sk-toggleable__label-arrow:before {content: \"▾\";}#sk-container-id-3 div.sk-estimator input.sk-toggleable__control:checked~label.sk-toggleable__label {background-color: #d4ebff;}#sk-container-id-3 div.sk-label input.sk-toggleable__control:checked~label.sk-toggleable__label {background-color: #d4ebff;}#sk-container-id-3 input.sk-hidden--visually {border: 0;clip: rect(1px 1px 1px 1px);clip: rect(1px, 1px, 1px, 1px);height: 1px;margin: -1px;overflow: hidden;padding: 0;position: absolute;width: 1px;}#sk-container-id-3 div.sk-estimator {font-family: monospace;background-color: #f0f8ff;border: 1px dotted black;border-radius: 0.25em;box-sizing: border-box;margin-bottom: 0.5em;}#sk-container-id-3 div.sk-estimator:hover {background-color: #d4ebff;}#sk-container-id-3 div.sk-parallel-item::after {content: \"\";width: 100%;border-bottom: 1px solid gray;flex-grow: 1;}#sk-container-id-3 div.sk-label:hover label.sk-toggleable__label {background-color: #d4ebff;}#sk-container-id-3 div.sk-serial::before {content: \"\";position: absolute;border-left: 1px solid gray;box-sizing: border-box;top: 0;bottom: 0;left: 50%;z-index: 0;}#sk-container-id-3 div.sk-serial {display: flex;flex-direction: column;align-items: center;background-color: white;padding-right: 0.2em;padding-left: 0.2em;position: relative;}#sk-container-id-3 div.sk-item {position: relative;z-index: 1;}#sk-container-id-3 div.sk-parallel {display: flex;align-items: stretch;justify-content: center;background-color: white;position: relative;}#sk-container-id-3 div.sk-item::before, #sk-container-id-3 div.sk-parallel-item::before {content: \"\";position: absolute;border-left: 1px solid gray;box-sizing: border-box;top: 0;bottom: 0;left: 50%;z-index: -1;}#sk-container-id-3 div.sk-parallel-item {display: flex;flex-direction: column;z-index: 1;position: relative;background-color: white;}#sk-container-id-3 div.sk-parallel-item:first-child::after {align-self: flex-end;width: 50%;}#sk-container-id-3 div.sk-parallel-item:last-child::after {align-self: flex-start;width: 50%;}#sk-container-id-3 div.sk-parallel-item:only-child::after {width: 0;}#sk-container-id-3 div.sk-dashed-wrapped {border: 1px dashed gray;margin: 0 0.4em 0.5em 0.4em;box-sizing: border-box;padding-bottom: 0.4em;background-color: white;}#sk-container-id-3 div.sk-label label {font-family: monospace;font-weight: bold;display: inline-block;line-height: 1.2em;}#sk-container-id-3 div.sk-label-container {text-align: center;}#sk-container-id-3 div.sk-container {/* jupyter's `normalize.less` sets `[hidden] { display: none; }` but bootstrap.min.css set `[hidden] { display: none !important; }` so we also need the `!important` here to be able to override the default hidden behavior on the sphinx rendered scikit-learn.org. See: https://github.com/scikit-learn/scikit-learn/issues/21755 */display: inline-block !important;position: relative;}#sk-container-id-3 div.sk-text-repr-fallback {display: none;}</style><div id=\"sk-container-id-3\" class=\"sk-top-container\"><div class=\"sk-text-repr-fallback\"><pre>GridSearchCV(cv=5, estimator=RandomForestRegressor(),\n",
              "             param_grid=[{&#x27;max_features&#x27;: [2, 4, 6, 8],\n",
              "                          &#x27;n_estimators&#x27;: [3, 10, 30]},\n",
              "                         {&#x27;bootstrap&#x27;: [False], &#x27;max_features&#x27;: [2, 3, 4],\n",
              "                          &#x27;n_estimators&#x27;: [3, 10]}],\n",
              "             return_train_score=True, scoring=&#x27;neg_mean_squared_error&#x27;)</pre><b>In a Jupyter environment, please rerun this cell to show the HTML representation or trust the notebook. <br />On GitHub, the HTML representation is unable to render, please try loading this page with nbviewer.org.</b></div><div class=\"sk-container\" hidden><div class=\"sk-item sk-dashed-wrapped\"><div class=\"sk-label-container\"><div class=\"sk-label sk-toggleable\"><input class=\"sk-toggleable__control sk-hidden--visually\" id=\"sk-estimator-id-3\" type=\"checkbox\" ><label for=\"sk-estimator-id-3\" class=\"sk-toggleable__label sk-toggleable__label-arrow\">GridSearchCV</label><div class=\"sk-toggleable__content\"><pre>GridSearchCV(cv=5, estimator=RandomForestRegressor(),\n",
              "             param_grid=[{&#x27;max_features&#x27;: [2, 4, 6, 8],\n",
              "                          &#x27;n_estimators&#x27;: [3, 10, 30]},\n",
              "                         {&#x27;bootstrap&#x27;: [False], &#x27;max_features&#x27;: [2, 3, 4],\n",
              "                          &#x27;n_estimators&#x27;: [3, 10]}],\n",
              "             return_train_score=True, scoring=&#x27;neg_mean_squared_error&#x27;)</pre></div></div></div><div class=\"sk-parallel\"><div class=\"sk-parallel-item\"><div class=\"sk-item\"><div class=\"sk-label-container\"><div class=\"sk-label sk-toggleable\"><input class=\"sk-toggleable__control sk-hidden--visually\" id=\"sk-estimator-id-4\" type=\"checkbox\" ><label for=\"sk-estimator-id-4\" class=\"sk-toggleable__label sk-toggleable__label-arrow\">estimator: RandomForestRegressor</label><div class=\"sk-toggleable__content\"><pre>RandomForestRegressor()</pre></div></div></div><div class=\"sk-serial\"><div class=\"sk-item\"><div class=\"sk-estimator sk-toggleable\"><input class=\"sk-toggleable__control sk-hidden--visually\" id=\"sk-estimator-id-5\" type=\"checkbox\" ><label for=\"sk-estimator-id-5\" class=\"sk-toggleable__label sk-toggleable__label-arrow\">RandomForestRegressor</label><div class=\"sk-toggleable__content\"><pre>RandomForestRegressor()</pre></div></div></div></div></div></div></div></div></div></div>"
            ]
          },
          "metadata": {},
          "execution_count": 19
        }
      ],
      "source": [
        "# CODE HERE\n",
        "param_grid = [\n",
        "              {'n_estimators': [3,10,30], 'max_features':[2,4,6,8]},\n",
        "              {'bootstrap':[False], 'max_features':[2,3,4],'n_estimators':[3,10]}\n",
        "]\n",
        "\n",
        "grid_search = GridSearchCV(forest_reg,param_grid,cv = 5, scoring = 'neg_mean_squared_error',return_train_score = True)\n",
        "grid_search.fit(housing_prepared, housing_labels)"
      ]
    },
    {
      "cell_type": "markdown",
      "metadata": {
        "id": "EhYbsAnE0j75"
      },
      "source": [
        "with the evaluation scores"
      ]
    },
    {
      "cell_type": "code",
      "execution_count": null,
      "metadata": {
        "id": "qhDCrx0Y0ocN",
        "colab": {
          "base_uri": "https://localhost:8080/"
        },
        "outputId": "5959c4f9-5e87-4e1d-aecf-dde524d85613"
      },
      "outputs": [
        {
          "output_type": "execute_result",
          "data": {
            "text/plain": [
              "{'max_features': 8, 'n_estimators': 30}"
            ]
          },
          "metadata": {},
          "execution_count": 20
        }
      ],
      "source": [
        "# CODE HERE\n",
        "grid_search.best_params_"
      ]
    },
    {
      "cell_type": "markdown",
      "metadata": {
        "id": "pjRCrlqEyH1A"
      },
      "source": [
        "# Analyze the Best Models and Their Errors\n",
        "1-indicate the relative importance of each attribute"
      ]
    },
    {
      "cell_type": "code",
      "execution_count": null,
      "metadata": {
        "id": "y2MkCD1Byh9F",
        "colab": {
          "base_uri": "https://localhost:8080/"
        },
        "outputId": "0c52145e-9f8c-4252-d8e8-e4be82afd5ee"
      },
      "outputs": [
        {
          "output_type": "stream",
          "name": "stdout",
          "text": [
            "Feature: 0, Score: -56276.05885\n",
            "Feature: 1, Score: -56638.23116\n",
            "Feature: 2, Score: 14122.30475\n",
            "Feature: 3, Score: 5881.10498\n",
            "Feature: 4, Score: 5307.66300\n",
            "Feature: 5, Score: -46320.28547\n",
            "Feature: 6, Score: 40233.72485\n",
            "Feature: 7, Score: 78904.43940\n",
            "Feature: 8, Score: 7699.44849\n",
            "Feature: 9, Score: 750.36794\n",
            "Feature: 10, Score: 16809.10455\n",
            "Feature: 11, Score: -18666.47855\n",
            "Feature: 12, Score: -53617.84038\n",
            "Feature: 13, Score: 112060.24445\n",
            "Feature: 14, Score: -24109.18513\n",
            "Feature: 15, Score: -15666.74039\n"
          ]
        }
      ],
      "source": [
        "# CODE HERE\n",
        "from matplotlib import pyplot\n",
        "importance = lin_reg.coef_                                     # get importance\n",
        "for i,v in enumerate(importance):                            # summarize feature importance\n",
        " print('Feature: %0d, Score: %.5f' % (i,v))"
      ]
    },
    {
      "cell_type": "markdown",
      "metadata": {
        "id": "b01L7mUm1xTV"
      },
      "source": [
        "2-display these importance scores next to their corresponding attribute names:"
      ]
    },
    {
      "cell_type": "code",
      "execution_count": null,
      "metadata": {
        "id": "dau43zXt14i7",
        "colab": {
          "base_uri": "https://localhost:8080/",
          "height": 430
        },
        "outputId": "0330842a-9909-4aeb-91fe-6900732ffaa4"
      },
      "outputs": [
        {
          "output_type": "display_data",
          "data": {
            "text/plain": [
              "<Figure size 640x480 with 1 Axes>"
            ],
            "image/png": "[encoded data removed]"
          },
          "metadata": {}
        }
      ],
      "source": [
        "# CODE HERE\n",
        "pyplot.bar([x for x in range(len(importance))], importance)  # plot feature importance\n",
        "pyplot.show()"
      ]
    },
    {
      "cell_type": "markdown",
      "metadata": {
        "id": "esOPiD6Pyice"
      },
      "source": [
        "## Now is the time to evaluate the final model on the test set.\n",
        "# Evaluate Your System on the Test Set\n",
        "\n",
        "1-get the predictors and the labels from your test set"
      ]
    },
    {
      "cell_type": "code",
      "execution_count": null,
      "metadata": {
        "id": "ZrmGwOEyykad",
        "colab": {
          "base_uri": "https://localhost:8080/",
          "height": 53
        },
        "outputId": "3a96bfac-ce8a-48f5-abf8-11759f9628c6"
      },
      "outputs": [
        {
          "output_type": "execute_result",
          "data": {
            "text/plain": [
              "\"\\nhousing_cat = x_test[['ocean_proximity']]\\nohe = OneHotEncoder()\\nohe_housing = ohe.fit_transform(housing_cat)\\narr_ohe_test_cat = ohe_housing.toarray()\\ndf_ohe_test_cat = pd.DataFrame(arr_ohe_test_cat)\\ntest_set_full = test_set.join(df_ohe_test_cat)\\n\\ntest_set_full.head() \""
            ],
            "application/vnd.google.colaboratory.intrinsic+json": {
              "type": "string"
            }
          },
          "metadata": {},
          "execution_count": 23
        }
      ],
      "source": [
        "# CODE HERE\n",
        "from sklearn.preprocessing import OneHotEncoder\n",
        "\n",
        "x_test = test_set.drop('median_house_value',axis = 1)\n",
        "y_test = test_set['median_house_value'].copy()\n",
        "\n",
        "'''\n",
        "housing_cat = x_test[['ocean_proximity']]\n",
        "ohe = OneHotEncoder()\n",
        "ohe_housing = ohe.fit_transform(housing_cat)\n",
        "arr_ohe_test_cat = ohe_housing.toarray()\n",
        "df_ohe_test_cat = pd.DataFrame(arr_ohe_test_cat)\n",
        "test_set_full = test_set.join(df_ohe_test_cat)\n",
        "\n",
        "test_set_full.head() '''"
      ]
    },
    {
      "cell_type": "markdown",
      "metadata": {
        "id": "lhkKu23G2yNd"
      },
      "source": [
        "2-run your full_pipeline to transform the data"
      ]
    },
    {
      "cell_type": "code",
      "execution_count": null,
      "metadata": {
        "id": "VBfW1WG823TE"
      },
      "outputs": [],
      "source": [
        "# CODE HERE\n",
        "test_prepared = full_pipeline.fit_transform(test_set)"
      ]
    },
    {
      "cell_type": "markdown",
      "metadata": {
        "id": "hNVnMSJy28xt"
      },
      "source": [
        "3-evaluate the final model on the test set"
      ]
    },
    {
      "cell_type": "code",
      "execution_count": null,
      "metadata": {
        "id": "HrcgAUoy2_tc",
        "colab": {
          "base_uri": "https://localhost:8080/"
        },
        "outputId": "b59097db-a3ff-44b5-e5cc-5ae2e7e0935d"
      },
      "outputs": [
        {
          "output_type": "execute_result",
          "data": {
            "text/plain": [
              "71067.06604346125"
            ]
          },
          "metadata": {},
          "execution_count": 25
        }
      ],
      "source": [
        "# CODE HERE\n",
        "final_predictions = lin_reg.predict(test_prepared)\n",
        "final_mse = mean_squared_error(y_test, final_predictions)\n",
        "final_rmse = np.sqrt(final_mse)\n",
        "final_rmse"
      ]
    },
    {
      "cell_type": "markdown",
      "metadata": {
        "id": "wYBxgnsx3Ipr"
      },
      "source": [
        "# compute a 95% confidence interval for the generalization error\n",
        "*using scipy.stats.t.interval():*"
      ]
    },
    {
      "cell_type": "code",
      "execution_count": null,
      "metadata": {
        "id": "ngWpgPrE3NaS"
      },
      "outputs": [],
      "source": [
        "from scipy import stats"
      ]
    },
    {
      "cell_type": "code",
      "execution_count": null,
      "metadata": {
        "id": "6RFaMou83WBY",
        "colab": {
          "base_uri": "https://localhost:8080/"
        },
        "outputId": "288fb922-09bd-45ca-fe1e-cdaa0cd0baca"
      },
      "outputs": [
        {
          "output_type": "stream",
          "name": "stderr",
          "text": [
            "<ipython-input-27-3b2a538e59e2>:2: DeprecationWarning: Use of keyword argument 'alpha' for method 'interval' is deprecated and wil be removed in SciPy 1.11.0. Use first positional argument or keyword argument 'confidence' instead.\n",
            "  stats.t.interval(alpha=0.95, df=len(housing_prepared)-1, loc=np.mean(housing_prepared), scale=stats.sem(housing_prepared))\n"
          ]
        },
        {
          "output_type": "execute_result",
          "data": {
            "text/plain": [
              "(array([0.04724567, 0.04724567, 0.04724567, 0.04724567, 0.04724567,\n",
              "        0.04724567, 0.04724567, 0.04724567, 0.04724567, 0.04724567,\n",
              "        0.04724567, 0.05491982, 0.0554047 , 0.06226261, 0.05768401,\n",
              "        0.05743215]),\n",
              " array([0.07775433, 0.07775433, 0.07775433, 0.07775433, 0.07775433,\n",
              "        0.07775433, 0.07775433, 0.07775433, 0.07775433, 0.07775433,\n",
              "        0.07775433, 0.07008018, 0.0695953 , 0.06273739, 0.06731599,\n",
              "        0.06756785]))"
            ]
          },
          "metadata": {},
          "execution_count": 27
        }
      ],
      "source": [
        "# CODE HERE\n",
        "stats.t.interval(alpha=0.95, df=len(housing_prepared)-1, loc=np.mean(housing_prepared), scale=stats.sem(housing_prepared))"
      ]
    },
    {
      "cell_type": "markdown",
      "metadata": {
        "id": "fTsy6N8Uytpo"
      },
      "source": [
        "# Great Job!\n",
        "# #shAI_Club"
      ]
    }
  ],
  "metadata": {
    "colab": {
      "provenance": []
    },
    "kernelspec": {
      "display_name": "Python 3 (ipykernel)",
      "language": "python",
      "name": "python3"
    },
    "language_info": {
      "codemirror_mode": {
        "name": "ipython",
        "version": 3
      },
      "file_extension": ".py",
      "mimetype": "text/x-python",
      "name": "python",
      "nbconvert_exporter": "python",
      "pygments_lexer": "ipython3",
      "version": "3.9.12"
    }
  },
  "nbformat": 4,
  "nbformat_minor": 0
}